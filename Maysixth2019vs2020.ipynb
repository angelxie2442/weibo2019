{
 "cells": [
  {
   "cell_type": "code",
   "execution_count": 6,
   "metadata": {
    "collapsed": true
   },
   "outputs": [],
   "source": [
    "import pandas as pd\n",
    "\n",
    "\n",
    "df1=pd.read_csv('.\\TrTwAllCompleteMaysixth_version2019summer.csv',encoding=\"utf-8\",dtype={'content':str})\n",
    "df2=pd.read_csv('.\\TrTwAllMay06th_version2020.csv',encoding=\"utf-8\",dtype={'content':str})\n",
    "df_jen=pd.read_csv('.\\webscraping_weibo\\svd_jen_test.csv',encoding=\"utf-8\",dtype={'content':str})\n",
    "df1=df1[['name','content','time']]\n",
    "df2=df2[['name','content','time']]\n",
    "df1['hour']=df1.time.apply(lambda x:x[6:8])\n",
    "df2['hour']=df2.time.apply(lambda x:x[6:8])"
   ]
  },
  {
   "cell_type": "code",
   "execution_count": 14,
   "outputs": [],
   "source": [
    "import xlsxwriter\n",
    "df_jen.to_excel(\"svd_jen.xlsx\",engine='xlsxwriter')"
   ],
   "metadata": {
    "collapsed": false,
    "pycharm": {
     "name": "#%%\n"
    }
   }
  },
  {
   "cell_type": "code",
   "execution_count": 10,
   "outputs": [
    {
     "data": {
      "text/plain": "990"
     },
     "execution_count": 10,
     "metadata": {},
     "output_type": "execute_result"
    }
   ],
   "source": [
    "df3=pd.concat([df1[['name','content','time']],df2[['name','content','time']]]).drop_duplicates(keep=\"first\")\n",
    "len(df3)\n",
    "len(df1)\n",
    "len(df2)"
   ],
   "metadata": {
    "collapsed": false,
    "pycharm": {
     "name": "#%%\n"
    }
   }
  },
  {
   "cell_type": "code",
   "execution_count": 11,
   "outputs": [
    {
     "data": {
      "text/plain": "422"
     },
     "execution_count": 11,
     "metadata": {},
     "output_type": "execute_result"
    }
   ],
   "source": [
    "df_both =df1.merge(df2,how=\"inner\",on=[\"name\",\"time\",\"content\",'hour'])\n",
    "len(df_both)"
   ],
   "metadata": {
    "collapsed": false,
    "pycharm": {
     "name": "#%%\n"
    }
   }
  },
  {
   "cell_type": "code",
   "execution_count": 41,
   "outputs": [
    {
     "data": {
      "text/plain": "hour\n07     2\n08     9\n09    34\n10    31\n11    39\n12    49\n13    40\n14    48\n15    51\n16    43\n17    13\n18     9\n19     3\n20    13\n21    14\n22    11\n23    13\nName: content, dtype: int64"
     },
     "execution_count": 41,
     "metadata": {},
     "output_type": "execute_result"
    }
   ],
   "source": [
    "df_both.groupby(\"hour\")['content'].count()"
   ],
   "metadata": {
    "collapsed": false,
    "pycharm": {
     "name": "#%%\n"
    }
   }
  },
  {
   "cell_type": "code",
   "execution_count": 12,
   "outputs": [
    {
     "data": {
      "text/plain": "hour\n07      4\n08     18\n09    111\n10    112\n11    125\n12     99\n13     75\n14    150\n15    147\n16    100\n17     36\n18     31\n19     33\n20     36\n21     34\n22     45\n23     38\nName: content, dtype: int64"
     },
     "execution_count": 12,
     "metadata": {},
     "output_type": "execute_result"
    }
   ],
   "source": [
    "df1.groupby(\"hour\")['content'].count()"
   ],
   "metadata": {
    "collapsed": false,
    "pycharm": {
     "name": "#%%\n"
    }
   }
  },
  {
   "cell_type": "code",
   "execution_count": 59,
   "outputs": [],
   "source": [
    "import xlsxwriter\n",
    "dff=df2[df2['hour']==\"23\"].sort_values(['time'],ascending=True)\n",
    "dff.to_excel(\"weibo_tmp.xlsx\",engine='xlsxwriter')"
   ],
   "metadata": {
    "collapsed": false,
    "pycharm": {
     "name": "#%%\n"
    }
   }
  }
 ],
 "metadata": {
  "kernelspec": {
   "display_name": "Python 3",
   "language": "python",
   "name": "python3"
  },
  "language_info": {
   "codemirror_mode": {
    "name": "ipython",
    "version": 2
   },
   "file_extension": ".py",
   "mimetype": "text/x-python",
   "name": "python",
   "nbconvert_exporter": "python",
   "pygments_lexer": "ipython2",
   "version": "2.7.6"
  }
 },
 "nbformat": 4,
 "nbformat_minor": 0
}